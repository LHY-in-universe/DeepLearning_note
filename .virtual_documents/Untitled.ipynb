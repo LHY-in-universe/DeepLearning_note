





text = "You say goodbye and I say hello."


print(text)
text = text.lower()
text = text.replace('.', ' .')
print(text)


words = text.split(' ')
words


word_to_id = {}
id_to_word = {}
for word in words:
    if word not in word_to_id:
        new_id = len(word_to_id)
        word_to_id[word] = new_id
        id_to_word[new_id] = word


id_to_word


word_to_id


import numpy as np
corpus = [word_to_id[w] for w in words]
corpus = np.array(corpus)
corpus


def preprocess(text):
    text = text.lower()
    text = text.replace('.', ' .')
    words = text.split(' ')
    word_to_id = {}
    id_to_word = {}
    for word in words:
        if word not in word_to_id:
            new_id = len(word_to_id)
            word_to_id[word] = new_id
            id_to_word[new_id] = word
    corpus = np.array([word_to_id[w] for w in words])
    return corpus, word_to_id, id_to_word





import sys
sys.path.append('..')
text = 'You say goodbye and I say hello.'
corpus, word_to_id, id_to_word = preprocess(text)


print(corpus)
print(id_to_word)



