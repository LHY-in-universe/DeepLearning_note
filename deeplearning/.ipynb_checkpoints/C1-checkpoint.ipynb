{
 "cells": [
  {
   "cell_type": "markdown",
   "id": "5dd37e7a-1bb4-489b-b643-a0ddd06d8b7f",
   "metadata": {},
   "source": [
    "# 1.2 Exercise \n",
    "1. For a perceptron, the positive part is always 1 and negetive part is always 0, times a positive number could nor change their sign.\n",
    "2. $w \\times x+b \\longrightarrow c (x \\times x+b)\\longrightarrow\\infty$"
   ]
  },
  {
   "cell_type": "markdown",
   "id": "f02c4933-182b-4209-a933-02076fb88b69",
   "metadata": {},
   "source": [
    "# 1.4 Execcise\n",
    "1. I think its same with 10digits to 2digits."
   ]
  },
  {
   "cell_type": "code",
   "execution_count": null,
   "id": "04b08669-5ca1-4625-8d1e-df69bd46e175",
   "metadata": {},
   "outputs": [],
   "source": []
  },
  {
   "cell_type": "code",
   "execution_count": null,
   "id": "26c8229a-924f-49f4-8a86-a59161794168",
   "metadata": {},
   "outputs": [],
   "source": []
  }
 ],
 "metadata": {
  "kernelspec": {
   "display_name": "Python 3 (ipykernel)",
   "language": "python",
   "name": "python3"
  },
  "language_info": {
   "codemirror_mode": {
    "name": "ipython",
    "version": 3
   },
   "file_extension": ".py",
   "mimetype": "text/x-python",
   "name": "python",
   "nbconvert_exporter": "python",
   "pygments_lexer": "ipython3",
   "version": "3.11.8"
  }
 },
 "nbformat": 4,
 "nbformat_minor": 5
}
