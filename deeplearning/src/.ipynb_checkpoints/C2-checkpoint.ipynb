{
 "cells": [
  {
   "cell_type": "markdown",
   "id": "9db711cf-4466-4fbc-b18c-cfaecd03ae37",
   "metadata": {},
   "source": [
    "# The Hadamard product\n",
    "$(s\\odot t)_j=s_jt_j$\n",
    "\n",
    "$\\left.\\left[\\begin{array}{c}1\\\\2\\end{array}\\right.\\right]\\odot\\begin{bmatrix}3\\\\4\\end{bmatrix}=\\begin{bmatrix}1*3\\\\2*4\\end{bmatrix}=\\begin{bmatrix}3\\\\8\\end{bmatrix}$\n"
   ]
  },
  {
   "cell_type": "code",
   "execution_count": null,
   "id": "e1930958-9ab3-4631-a344-1fd4df4a45c5",
   "metadata": {},
   "outputs": [],
   "source": []
  }
 ],
 "metadata": {
  "kernelspec": {
   "display_name": "Python 3 (ipykernel)",
   "language": "python",
   "name": "python3"
  },
  "language_info": {
   "codemirror_mode": {
    "name": "ipython",
    "version": 3
   },
   "file_extension": ".py",
   "mimetype": "text/x-python",
   "name": "python",
   "nbconvert_exporter": "python",
   "pygments_lexer": "ipython3",
   "version": "3.11.8"
  }
 },
 "nbformat": 4,
 "nbformat_minor": 5
}
