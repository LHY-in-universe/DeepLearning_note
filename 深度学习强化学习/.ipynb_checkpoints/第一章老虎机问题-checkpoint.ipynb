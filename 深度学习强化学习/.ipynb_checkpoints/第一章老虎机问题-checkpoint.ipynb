{
 "cells": [
  {
   "cell_type": "markdown",
   "id": "05ea465f",
   "metadata": {
    "ExecuteTime": {
     "end_time": "2025-05-14T04:02:41.287991Z",
     "start_time": "2025-05-14T04:02:41.283462Z"
    }
   },
   "source": [
    "# 机器学习分类\n",
    "## 监督学习\n",
    "存在正确标签\n",
    "## 无监督学习\n",
    "聚类, 特征提取和降维\n",
    "## 强化学习\n",
    "从环境中不断试错学习\n",
    "# 老虎机问题 bandit problem\n",
    "\n",
    "老虎机 environment, 玩家叫做智能代理 agent, 从老虎机中获得的硬币是奖励\n",
    " reward, 奖励的期望值被称为价值 value, 取某个行动所得到的奖励的期望值成为行动价值 action value.\n",
    "    "
   ]
  },
  {
   "cell_type": "code",
   "execution_count": 4,
   "id": "a35fd8d6",
   "metadata": {
    "ExecuteTime": {
     "end_time": "2025-05-14T04:35:06.789295Z",
     "start_time": "2025-05-14T04:35:06.782071Z"
    }
   },
   "outputs": [
    {
     "name": "stdout",
     "output_type": "stream",
     "text": [
      "0.5488135039273248\n",
      "0.6320014351498722\n",
      "0.6222554154571295\n",
      "0.6029123573420713\n",
      "0.567060845741438\n",
      "0.5801997236289743\n",
      "0.5598265075766483\n",
      "0.6013198192273272\n",
      "0.6415801460355164\n",
      "0.6157662833145425\n"
     ]
    }
   ],
   "source": [
    "import numpy as np\n",
    "np.random.seed(0)\n",
    "rewards = []\n",
    "\n",
    "for n in range(1, 11):\n",
    "    reward = np.random.rand()\n",
    "    rewards.append(reward)\n",
    "    Q = sum(rewards)/n\n",
    "    print(Q)"
   ]
  },
  {
   "cell_type": "markdown",
   "id": "398d01bb",
   "metadata": {
    "ExecuteTime": {
     "end_time": "2025-05-14T04:34:52.787186Z",
     "start_time": "2025-05-14T04:34:52.783904Z"
    }
   },
   "source": [
    "注意到此式的计算量会逐渐变大,因此使用另一种方式计算\n",
    "\n",
    " $Q_n=\\left(1-\\frac{1}{n}\\right)Q_{n-1}+\\frac{1}{n}R_n=Q_{n-1}+\\frac{1}{n}(R_{n}-Q_{n-1})$"
   ]
  },
  {
   "cell_type": "code",
   "execution_count": 6,
   "id": "763366e0",
   "metadata": {
    "ExecuteTime": {
     "end_time": "2025-05-14T04:51:22.868037Z",
     "start_time": "2025-05-14T04:51:22.862821Z"
    }
   },
   "outputs": [
    {
     "name": "stdout",
     "output_type": "stream",
     "text": [
      "0.978618342232764\n",
      "0.8888884532247439\n",
      "0.7464187562341399\n",
      "0.7549463612472188\n",
      "0.6276119741715617\n",
      "0.6296634820308887\n",
      "0.5601905970849113\n",
      "0.6082503870804954\n",
      "0.5986501575993372\n",
      "0.5802513358384558\n",
      "0.5515517245899259\n",
      "0.5701085549936168\n",
      "0.5613425378569192\n",
      "0.5618490672148999\n",
      "0.5256451160963302\n",
      "0.531394514907552\n",
      "0.5361416447790148\n",
      "0.5406301087843338\n",
      "0.5618468440332964\n",
      "0.5678455167868057\n"
     ]
    }
   ],
   "source": [
    "Q = 0\n",
    "for n in range(1, 21):\n",
    "    reward = np.random.rand()\n",
    "    Q = Q+(reward-Q)/n\n",
    "    print(Q)"
   ]
  },
  {
   "cell_type": "markdown",
   "id": "f15ecac8",
   "metadata": {},
   "source": [
    "强化学习有两个基本策略 exploitation 利用以及 exploration探索\n",
    "## $\\epsilon - greedy$算法 \n",
    "以 $\\epsilon$的概率探索,$1-\\epsilon$的概率利用"
   ]
  },
  {
   "cell_type": "code",
   "execution_count": 7,
   "id": "a0efbaa3",
   "metadata": {
    "ExecuteTime": {
     "end_time": "2025-05-14T05:15:40.968254Z",
     "start_time": "2025-05-14T05:15:40.964390Z"
    }
   },
   "outputs": [],
   "source": [
    "class Bandit:\n",
    "    def __init__(self, arms=10):\n",
    "        self.rates = np.random.rand(arms)\n",
    "\n",
    "    def play(self, arm):\n",
    "        rate = self.rates[arm]\n",
    "        if rate > np.random.rand():\n",
    "            return 1\n",
    "        else:\n",
    "            return 0"
   ]
  },
  {
   "cell_type": "code",
   "execution_count": 15,
   "id": "c0e0d5c6",
   "metadata": {
    "ExecuteTime": {
     "end_time": "2025-05-14T05:41:26.168677Z",
     "start_time": "2025-05-14T05:41:26.152154Z"
    }
   },
   "outputs": [
    {
     "name": "stdout",
     "output_type": "stream",
     "text": [
      "[0. 0. 0. 0. 1. 0. 0. 0. 0. 0.]\n",
      "[0. 0. 0. 0. 1. 0. 0. 0. 0. 0.]\n",
      "[0. 0. 0. 0. 1. 1. 0. 0. 0. 0.]\n",
      "[0. 0. 0. 0. 1. 1. 0. 0. 0. 0.]\n",
      "[0. 1. 0. 0. 1. 1. 0. 0. 0. 0.]\n",
      "[0.  1.  0.  0.  1.  1.  0.  0.  0.5 0. ]\n",
      "[0.  1.  0.  0.  1.  1.  0.  0.  0.5 0. ]\n",
      "[0.  1.  0.  0.  1.  1.  0.  0.  0.5 1. ]\n",
      "[0.  1.  0.  0.  1.  1.  0.  0.  0.5 1. ]\n",
      "[0.  0.5 0.  0.  1.  1.  0.  0.  0.5 1. ]\n"
     ]
    }
   ],
   "source": [
    "bandit = Bandit()\n",
    "\n",
    "\n",
    "Qs = np.zeros(10)\n",
    "ns = np.zeros(10)\n",
    "for n in range(10):\n",
    "    action = np.random.randint(0, 10)\n",
    "    reward = bandit.play(action)\n",
    "    ns[action] += 1\n",
    "    Qs[action] += (reward-Qs[action])/ns[action]\n",
    "    print(Qs)"
   ]
  },
  {
   "cell_type": "code",
   "execution_count": 16,
   "id": "0b6b29ce",
   "metadata": {
    "ExecuteTime": {
     "end_time": "2025-05-14T06:03:51.346583Z",
     "start_time": "2025-05-14T06:03:51.338885Z"
    }
   },
   "outputs": [],
   "source": [
    "class Agent:\n",
    "    def __init__(self, epsilon, action_size=10):\n",
    "        self.epsilon = epsilon\n",
    "        self.Qs = np.zeros(action_size)\n",
    "        self.ns = np.zeros(action_size)\n",
    "\n",
    "    def update(self, action, reward):\n",
    "        self.ns[action] += 1\n",
    "        self.Qs[action] += (reward-self.Qs[action])/self.ns[action]\n",
    "\n",
    "    def get_action(self):\n",
    "        if np.random.rand() < self.epsilon:\n",
    "            return np.random.randint(0, len(self.Qs))\n",
    "        return np.argmax(self.Qs)"
   ]
  },
  {
   "cell_type": "code",
   "execution_count": 29,
   "id": "5e0addc9",
   "metadata": {
    "ExecuteTime": {
     "end_time": "2025-05-14T06:15:18.843508Z",
     "start_time": "2025-05-14T06:15:18.726868Z"
    }
   },
   "outputs": [
    {
     "name": "stdout",
     "output_type": "stream",
     "text": [
      "891\n"
     ]
    },
    {
     "data": {
      "image/png": "[encoded data removed]",
      "text/plain": [
       "<Figure size 640x480 with 1 Axes>"
      ]
     },
     "metadata": {},
     "output_type": "display_data"
    },
    {
     "data": {
      "image/png": "[encoded data removed]",
      "text/plain": [
       "<Figure size 640x480 with 1 Axes>"
      ]
     },
     "metadata": {},
     "output_type": "display_data"
    }
   ],
   "source": [
    "import matplotlib.pyplot as plt\n",
    "steps = 1000\n",
    "epsilon = 0.1\n",
    "\n",
    "bandit = Bandit()\n",
    "agent = Agent(epsilon)\n",
    "total_reward = 0\n",
    "total_rewards = []\n",
    "rates = []\n",
    "\n",
    "for step in range(steps):\n",
    "    action = agent.get_action()  # 选择行动\n",
    "    reward = bandit.play(action)  # 实际去玩,获得奖励\n",
    "    agent.update(action, reward)  # 从行动与奖励中学习\n",
    "    total_reward += reward\n",
    "\n",
    "    total_rewards.append(total_reward)\n",
    "    rates.append(total_reward/(step+1))\n",
    "print(total_reward)\n",
    "\n",
    "plt.ylabel('Total reward')\n",
    "plt.xlabel('Steps')\n",
    "plt.plot(total_rewards)\n",
    "plt.show()\n",
    "\n",
    "plt.ylabel('Rates')\n",
    "plt.xlabel('Steps')\n",
    "plt.plot(rates)\n",
    "plt.show()"
   ]
  },
  {
   "cell_type": "code",
   "execution_count": 30,
   "id": "6433f9bc",
   "metadata": {
    "ExecuteTime": {
     "end_time": "2025-05-14T06:34:22.479000Z",
     "start_time": "2025-05-14T06:34:21.975180Z"
    }
   },
   "outputs": [
    {
     "data": {
      "text/plain": [
       "<function matplotlib.pyplot.show(close=None, block=None)>"
      ]
     },
     "execution_count": 30,
     "metadata": {},
     "output_type": "execute_result"
    },
    {
     "data": {
      "image/png": "[encoded data removed]",
      "text/plain": [
       "<Figure size 640x480 with 1 Axes>"
      ]
     },
     "metadata": {},
     "output_type": "display_data"
    }
   ],
   "source": [
    "runs = 200\n",
    "steps = 1000\n",
    "epsilon = 0.1\n",
    "all_rates = np.zeros((runs, steps))  # 形状为(200,1000)的数组\n",
    "for run in range(runs):\n",
    "    bandit = Bandit()\n",
    "    agent = Agent(epsilon)\n",
    "    total_reward = 0\n",
    "    rates = []\n",
    "    for step in range(steps):\n",
    "        action = agent.get_action()\n",
    "        reward = bandit.play(action)\n",
    "        agent.update(action, reward)\n",
    "        total_reward += reward\n",
    "        rates.append(total_reward/(step+1))\n",
    "    all_rates[run] = rates\n",
    "avg_rates = np.average(all_rates, axis=0)\n",
    "\n",
    "plt.ylabel('rates')\n",
    "plt.xlabel('Steps')\n",
    "plt.plot(avg_rates)\n",
    "plt.show"
   ]
  },
  {
   "cell_type": "markdown",
   "id": "d36a8ee4",
   "metadata": {},
   "source": [
    "## 稳态问题 stationary problem\n",
    "奖励的概率分布稳步不变\n",
    "## 非稳态问题 non-stationary problem\n",
    "由于环境不停变化,过去的数据重要性应该不断降低\n",
    "    \n",
    "指数移动平均\n",
    "$Q_n=Q_{n-1}+\\alpha (R_n-Q_{n-1})$\n"
   ]
  },
  {
   "cell_type": "code",
   "execution_count": 31,
   "id": "7d5365d2",
   "metadata": {
    "ExecuteTime": {
     "end_time": "2025-05-14T06:54:57.926404Z",
     "start_time": "2025-05-14T06:54:57.916514Z"
    }
   },
   "outputs": [],
   "source": [
    "class NonStatBandit:\n",
    "    def __init__(self, arms=10):\n",
    "        self.arms = arms\n",
    "        self.rates = np.random.rand(arms)\n",
    "\n",
    "    def play(self, arm):\n",
    "        rate = self.rates[arm]\n",
    "        self.rates += 0.1*np.random.randn(self.arms)  # 添加噪声\n",
    "        if rate > np.random.rand():\n",
    "            return 1\n",
    "        else:\n",
    "            return 0\n",
    "\n",
    "\n",
    "class AlphaAgent:\n",
    "    def __init__(self, epsilon, alpha, actions=10):\n",
    "        self.epsilon = epsilon\n",
    "        self.Qs = np.zeros(actions)\n",
    "        self.alpha = alpha\n",
    "\n",
    "    def update(self, action, reward):\n",
    "        self.Qs[action] += (reward-self.Qs[action])*self.alpha\n",
    "\n",
    "    def get_action(self):\n",
    "        if np.random.rand() < self.epsilon:\n",
    "            return np.random.randint(0, len(self.Qs))\n",
    "        return np.argmax(self.Qs)"
   ]
  },
  {
   "cell_type": "code",
   "execution_count": null,
   "id": "5cb8807c",
   "metadata": {},
   "outputs": [],
   "source": []
  }
 ],
 "metadata": {
  "hide_input": false,
  "kernelspec": {
   "display_name": "Python 3 (ipykernel)",
   "language": "python",
   "name": "python3"
  },
  "language_info": {
   "codemirror_mode": {
    "name": "ipython",
    "version": 3
   },
   "file_extension": ".py",
   "mimetype": "text/x-python",
   "name": "python",
   "nbconvert_exporter": "python",
   "pygments_lexer": "ipython3",
   "version": "3.11.8"
  },
  "toc": {
   "base_numbering": 1,
   "nav_menu": {},
   "number_sections": true,
   "sideBar": true,
   "skip_h1_title": false,
   "title_cell": "Table of Contents",
   "title_sidebar": "Contents",
   "toc_cell": false,
   "toc_position": {},
   "toc_section_display": true,
   "toc_window_display": false
  },
  "varInspector": {
   "cols": {
    "lenName": 16,
    "lenType": 16,
    "lenVar": 40
   },
   "kernels_config": {
    "python": {
     "delete_cmd_postfix": "",
     "delete_cmd_prefix": "del ",
     "library": "var_list.py",
     "varRefreshCmd": "print(var_dic_list())"
    },
    "r": {
     "delete_cmd_postfix": ") ",
     "delete_cmd_prefix": "rm(",
     "library": "var_list.r",
     "varRefreshCmd": "cat(var_dic_list()) "
    }
   },
   "oldHeight": 122,
   "position": {
    "height": "40px",
    "left": "564px",
    "right": "20px",
    "top": "120px",
    "width": "250px"
   },
   "types_to_exclude": [
    "module",
    "function",
    "builtin_function_or_method",
    "instance",
    "_Feature"
   ],
   "varInspector_section_display": "none",
   "window_display": false
  }
 },
 "nbformat": 4,
 "nbformat_minor": 5
}
