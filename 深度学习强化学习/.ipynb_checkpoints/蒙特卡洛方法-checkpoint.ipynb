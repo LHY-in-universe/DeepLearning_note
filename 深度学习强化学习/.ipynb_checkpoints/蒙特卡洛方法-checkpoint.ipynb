{
 "cells": [
  {
   "cell_type": "code",
   "execution_count": 11,
   "id": "88e9dabe",
   "metadata": {
    "ExecuteTime": {
     "end_time": "2025-05-17T07:50:45.730378Z",
     "start_time": "2025-05-17T07:50:45.688445Z"
    },
    "code_folding": [
     5,
     165
    ]
   },
   "outputs": [],
   "source": [
    "import numpy as np\n",
    "import matplotlib\n",
    "import matplotlib.pyplot as plt\n",
    "from collections import defaultdict\n",
    "\n",
    "class Renderer:\n",
    "    def __init__(self, reward_map, goal_state, wall_state):\n",
    "        self.reward_map = reward_map\n",
    "        self.goal_state = goal_state\n",
    "        self.wall_state = wall_state\n",
    "        self.ys = len(self.reward_map)\n",
    "        self.xs = len(self.reward_map[0])\n",
    "\n",
    "        self.ax = None\n",
    "        self.fig = None\n",
    "        self.first_flg = True\n",
    "\n",
    "    def set_figure(self, figsize=None):\n",
    "        fig = plt.figure(figsize=figsize)\n",
    "        self.ax = fig.add_subplot(111)\n",
    "        ax = self.ax\n",
    "        ax.clear()\n",
    "        ax.tick_params(labelbottom=False, labelleft=False, labelright=False, labeltop=False)\n",
    "        ax.set_xticks(range(self.xs))\n",
    "        ax.set_yticks(range(self.ys))\n",
    "        ax.set_xlim(0, self.xs)\n",
    "        ax.set_ylim(0, self.ys)\n",
    "        ax.grid(True)\n",
    "\n",
    "    def render_v(self, v=None, policy=None, print_value=True):\n",
    "        self.set_figure()\n",
    "\n",
    "        ys, xs = self.ys, self.xs\n",
    "        ax = self.ax\n",
    "\n",
    "        if v is not None:\n",
    "            color_list = ['red', 'white', 'green']\n",
    "            cmap = matplotlib.colors.LinearSegmentedColormap.from_list(\n",
    "                'colormap_name', color_list)\n",
    "\n",
    "            # dict -> ndarray\n",
    "            v_dict = v\n",
    "            v = np.zeros(self.reward_map.shape)\n",
    "            for state, value in v_dict.items():\n",
    "                v[state] = value\n",
    "\n",
    "            vmax, vmin = v.max(), v.min()\n",
    "            vmax = max(vmax, abs(vmin))\n",
    "            vmin = -1 * vmax\n",
    "            vmax = 1 if vmax < 1 else vmax\n",
    "            vmin = -1 if vmin > -1 else vmin\n",
    "\n",
    "            ax.pcolormesh(np.flipud(v), cmap=cmap, vmin=vmin, vmax=vmax)\n",
    "\n",
    "        for y in range(ys):\n",
    "            for x in range(xs):\n",
    "                state = (y, x)\n",
    "                r = self.reward_map[y, x]\n",
    "                if r != 0 and r is not None:\n",
    "                    txt = 'R ' + str(r)\n",
    "                    if state == self.goal_state:\n",
    "                        txt = txt + ' (GOAL)'\n",
    "                    ax.text(x+.1, ys-y-0.9, txt)\n",
    "\n",
    "                if (v is not None) and state != self.wall_state:\n",
    "                    if print_value:\n",
    "                        offsets = [(0.4, -0.15), (-0.15, -0.3)]\n",
    "                        key = 0\n",
    "                        if v.shape[0] > 7: key = 1\n",
    "                        offset = offsets[key]\n",
    "                        ax.text(x+offset[0], ys-y+offset[1], \"{:12.2f}\".format(v[y, x]))\n",
    "\n",
    "                if policy is not None and state != self.wall_state:\n",
    "                    actions = policy[state]\n",
    "                    max_actions = [kv[0] for kv in actions.items() if kv[1] == max(actions.values())]\n",
    "\n",
    "                    arrows = [\"↑\", \"↓\", \"←\", \"→\"]\n",
    "                    offsets = [(0, 0.1), (0, -0.1), (-0.1, 0), (0.1, 0)]\n",
    "                    for action in max_actions:\n",
    "                        arrow = arrows[action]\n",
    "                        offset = offsets[action]\n",
    "                        if state == self.goal_state:\n",
    "                            continue\n",
    "                        ax.text(x+0.45+offset[0], ys-y-0.5+offset[1], arrow)\n",
    "\n",
    "                if state == self.wall_state:\n",
    "                    ax.add_patch(plt.Rectangle((x,ys-y-1), 1, 1, fc=(0.4, 0.4, 0.4, 1.)))\n",
    "        plt.show()\n",
    "\n",
    "    def render_q(self, q, show_greedy_policy=True):\n",
    "        self.set_figure()\n",
    "\n",
    "        ys, xs = self.ys, self.xs\n",
    "        ax = self.ax\n",
    "        action_space = [0, 1, 2, 3]\n",
    "\n",
    "        qmax, qmin = max(q.values()), min(q.values())\n",
    "        qmax = max(qmax, abs(qmin))\n",
    "        qmin = -1 * qmax\n",
    "        qmax = 1 if qmax < 1 else qmax\n",
    "        qmin = -1 if qmin > -1 else qmin\n",
    "\n",
    "\n",
    "        color_list = ['red', 'white', 'green']\n",
    "        cmap = matplotlib.colors.LinearSegmentedColormap.from_list(\n",
    "            'colormap_name', color_list)\n",
    "\n",
    "        for y in range(ys):\n",
    "            for x in range(xs):\n",
    "                for action in action_space:\n",
    "                    state = (y, x)\n",
    "                    r = self.reward_map[y, x]\n",
    "                    if r != 0 and r is not None:\n",
    "                        txt = 'R ' + str(r)\n",
    "                        if state == self.goal_state:\n",
    "                            txt = txt + ' (GOAL)'\n",
    "                        ax.text(x+.05, ys-y-0.95, txt)\n",
    "\n",
    "                    if state == self.goal_state:\n",
    "                        continue\n",
    "\n",
    "                    tx, ty = x, ys-y-1\n",
    "\n",
    "                    action_map = {\n",
    "                        0: ((0.5+tx, 0.5+ty), (tx+1, ty+1), (tx, ty+1)),\n",
    "                        1: ((tx, ty), (tx+1, ty), (tx+0.5, ty+0.5)),\n",
    "                        2: ((tx, ty), (tx+0.5, ty+0.5), (tx, ty+1)),\n",
    "                        3: ((0.5+tx, 0.5+ty), (tx+1, ty), (tx+1, ty+1)),\n",
    "                    }\n",
    "                    offset_map = {\n",
    "                        0: (0.1, 0.8),\n",
    "                        1: (0.1, 0.1),\n",
    "                        2: (-0.2, 0.4),\n",
    "                        3: (0.4, 0.4),\n",
    "                    }\n",
    "                    if state == self.wall_state:\n",
    "                        ax.add_patch(plt.Rectangle((tx, ty), 1, 1, fc=(0.4, 0.4, 0.4, 1.)))\n",
    "                    elif state in self.goal_state:\n",
    "                        ax.add_patch(plt.Rectangle((tx, ty), 1, 1, fc=(0., 1., 0., 1.)))\n",
    "                    else:\n",
    "\n",
    "                        tq = q[(state, action)]\n",
    "                        color_scale = 0.5 + (tq / qmax) / 2  # normalize: 0.0-1.0\n",
    "\n",
    "                        poly = plt.Polygon(action_map[action],fc=cmap(color_scale))\n",
    "                        ax.add_patch(poly)\n",
    "\n",
    "                        offset= offset_map[action]\n",
    "                        ax.text(tx+offset[0], ty+offset[1], \"{:12.2f}\".format(tq))\n",
    "        plt.show()\n",
    "\n",
    "        if show_greedy_policy:\n",
    "            policy = {}\n",
    "            for y in range(self.ys):\n",
    "                for x in range(self.xs):\n",
    "                    state = (y, x)\n",
    "                    qs = [q[state, action] for action in range(4)]  # action_size\n",
    "                    max_action = np.argmax(qs)\n",
    "                    probs = {0:0.0, 1:0.0, 2:0.0, 3:0.0}\n",
    "                    probs[max_action] = 1\n",
    "                    policy[state] = probs\n",
    "            self.render_v(None, policy)\n",
    "import numpy as np\n",
    "\n",
    "\n",
    "class GridWorld:\n",
    "    def __init__(self):\n",
    "        self.action_space = [0, 1, 2, 3]  # 表示行动空间\n",
    "        self.action_meaning = {0: 'up',\n",
    "                               1: 'down',\n",
    "                               2: 'left',\n",
    "                               3: 'right'}\n",
    "        self.reward_map = np.array(\n",
    "            [[0, 0, 0, 1.0], [0, None, 0, -1.0], [0, 0, 0, 0]])  # 奖励映射\n",
    "        self.goal_state = (0, 3)\n",
    "        self.wall_state = (1, 1)\n",
    "        self.start_state = (2, 0)\n",
    "        self.agent_state = self.start_state\n",
    "\n",
    "    @property\n",
    "    def height(self):\n",
    "        return len(self.reward_map)\n",
    "\n",
    "    @property\n",
    "    def width(self):\n",
    "        return len(self.reward_map[0])\n",
    "\n",
    "    @property  # 使得目标变量可以作为实例变量使用\n",
    "    def shape(self):\n",
    "        return self.reward_map.shape\n",
    "\n",
    "    def actions(self):\n",
    "        return self.action_space\n",
    "\n",
    "    def states(self):\n",
    "        for h in range(self.height):\n",
    "            for w in range(self.width):\n",
    "                yield (h, w)\n",
    "\n",
    "    def next_state(self, state, action):\n",
    "        action_move_map = [(-1, 0), (1, 0), (0, -1), (0, 1)]\n",
    "        move = action_move_map[action]\n",
    "        next_state = (state[0]+move[0], state[1]+move[1])\n",
    "        ny, nx = next_state\n",
    "\n",
    "        if nx < 0 or nx >= self.width or ny < 0 or ny >= self.height:\n",
    "            next_state = state\n",
    "        elif next_state == self.wall_state:\n",
    "            next_state = state\n",
    "\n",
    "        return next_state\n",
    "\n",
    "    def reward(self, state, action, next_state):\n",
    "        return self.reward_map[next_state]\n",
    "    \n",
    "    def reset(self):\n",
    "        return (0,0)\n",
    "\n",
    "    def step(self, action):\n",
    "        state = self.agent_state\n",
    "        next_state = self.next_state(state, action)\n",
    "        reward = self.reward(state, action, next_state)\n",
    "        done = (next_state == self.goal_state)\n",
    "\n",
    "        self.agent_state = next_state\n",
    "        return next_state, reward, done\n",
    "\n",
    "    def render_v(self, v=None, policy=None, print_value=True):\n",
    "        renderer = Renderer(self.reward_map, self.goal_state,\n",
    "                                          self.wall_state)\n",
    "        renderer.render_v(v, policy, print_value)\n",
    "\n",
    "    def render_q(self, q=None, print_value=True):\n",
    "        renderer = Renderer(self.reward_map, self.goal_state,\n",
    "                                          self.wall_state)\n",
    "        renderer.render_q(q, print_value)"
   ]
  },
  {
   "cell_type": "code",
   "execution_count": 12,
   "id": "78690d6b",
   "metadata": {
    "ExecuteTime": {
     "end_time": "2025-05-17T07:50:46.258037Z",
     "start_time": "2025-05-17T07:50:46.253069Z"
    }
   },
   "outputs": [
    {
     "name": "stdout",
     "output_type": "stream",
     "text": [
      "next_state (1, 0)\n",
      "reward 0\n",
      "done False\n"
     ]
    }
   ],
   "source": [
    "env = GridWorld()\n",
    "action = 0\n",
    "next_state, reward, done = env.step(action)\n",
    "print('next_state', next_state)\n",
    "print('reward', reward)\n",
    "print('done', done)\n"
   ]
  },
  {
   "cell_type": "code",
   "execution_count": 17,
   "id": "452aea48",
   "metadata": {
    "ExecuteTime": {
     "end_time": "2025-05-17T07:51:05.914157Z",
     "start_time": "2025-05-17T07:51:05.905494Z"
    }
   },
   "outputs": [],
   "source": [
    "class RandomAgent:\n",
    "    def __init__(self):\n",
    "        self.gamma = 0.9\n",
    "        self.action_size = 4\n",
    "        random_actions = {0: .25, 1: 0.25, 3: 0.25, 2: 0.25}\n",
    "        self.pi = defaultdict(lambda: random_actions)\n",
    "        self.V = defaultdict(lambda: 0)\n",
    "        self.cnts = defaultdict(lambda: 0)\n",
    "        self.memory = []\n",
    "\n",
    "    def get_action(self, state):\n",
    "        action_probs = self.pi[state]\n",
    "        actions = list(action_probs.keys())\n",
    "        probs = list(action_probs.values())\n",
    "        return np.random.choice(actions, p=probs)\n",
    "\n",
    "    def add(self, state, action, reward):\n",
    "        data = (state, action, reward)\n",
    "        self.memory.append(data)\n",
    "\n",
    "    def reset(self):\n",
    "        self.memory.clear()\n",
    "\n",
    "    def eval(self):\n",
    "        G = 0\n",
    "        for data in reversed(self.memory):\n",
    "            state, action, reward = data\n",
    "            G = self.gamma*G+reward\n",
    "            self.cnts[state] += 1\n",
    "            self.V[state] += (G-self.V[state])/self.cnts[state]"
   ]
  },
  {
   "cell_type": "code",
   "execution_count": 19,
   "id": "7656bbd2",
   "metadata": {
    "ExecuteTime": {
     "end_time": "2025-05-17T07:51:19.375721Z",
     "start_time": "2025-05-17T07:51:19.226004Z"
    }
   },
   "outputs": [
    {
     "data": {
      "image/png": "[encoded data removed]",
      "text/plain": [
       "<Figure size 640x480 with 1 Axes>"
      ]
     },
     "metadata": {},
     "output_type": "display_data"
    }
   ],
   "source": [
    "env = GridWorld()\n",
    "agent = RandomAgent()\n",
    "\n",
    "episodes = 1000\n",
    "for episode in range(episodes):\n",
    "    state = env.reset()\n",
    "    agent.reset()\n",
    "\n",
    "    while True:\n",
    "        action = agent.get_action(state)\n",
    "        next_state, reward, done = env.step(action)\n",
    "\n",
    "        agent.add(state, action, reward)\n",
    "        if done:\n",
    "            agent.eval()\n",
    "            break\n",
    "        state = next_state\n",
    "\n",
    "env.render_v(agent.V)"
   ]
  },
  {
   "cell_type": "code",
   "execution_count": 31,
   "id": "afc52b78",
   "metadata": {
    "ExecuteTime": {
     "end_time": "2025-05-17T08:20:32.735459Z",
     "start_time": "2025-05-17T08:20:32.724534Z"
    }
   },
   "outputs": [],
   "source": [
    "def greedy_probs(Q, state, epsilon=0,  action_size=4):\n",
    "    qs = [Q[(state, action)] for action in range(action_size)]\n",
    "    max_action = np.argmax(qs)\n",
    "\n",
    "    base_prob = epsilon/action_size\n",
    "    action_probs = {action: base_prob for action in range(action_size)}\n",
    "    action_probs[max_action] += (1-epsilon)\n",
    "    return action_probs\n",
    "\n",
    "\n",
    "class McAgent:\n",
    "    def __init__(self):\n",
    "        self.gamma = 0.9\n",
    "        self.epsilon = 0.1\n",
    "        self.alpha = 0.5\n",
    "        self.action_size = 4\n",
    "\n",
    "        random_actions = {0: .25, 1: 0.25, 3: 0.25, 2: 0.25}\n",
    "        self.pi = defaultdict(lambda: random_actions)\n",
    "        self.Q = defaultdict(lambda: 0)\n",
    "        self.cnts = defaultdict(lambda: 0)\n",
    "        self.memory = []\n",
    "\n",
    "    def get_action(self, state):\n",
    "        action_probs = self.pi[state]\n",
    "        actions = list(action_probs.keys())\n",
    "        probs = list(action_probs.values())\n",
    "        return np.random.choice(actions, p=probs)\n",
    "\n",
    "    def add(self, state, action, reward):\n",
    "        data = (state, action, reward)\n",
    "        self.memory.append(data)\n",
    "\n",
    "    def reset(self):\n",
    "        self.memory.clear()\n",
    "\n",
    "    def update(self):\n",
    "        G = 0\n",
    "        for data in reversed(self.memory):\n",
    "            state, action, reward = data\n",
    "            G = self.gamma*G+reward\n",
    "            key = (state, action)\n",
    "            self.Q[key] += (G-self.Q[key])*self.alpha\n",
    "            self.pi[state] = greedy_probs(self.Q, state, self.epsilon)"
   ]
  },
  {
   "cell_type": "code",
   "execution_count": 32,
   "id": "eeb1b6a8",
   "metadata": {
    "ExecuteTime": {
     "end_time": "2025-05-17T08:20:33.308660Z",
     "start_time": "2025-05-17T08:20:33.080852Z"
    }
   },
   "outputs": [
    {
     "data": {
      "image/png": "[encoded data removed]",
      "text/plain": [
       "<Figure size 640x480 with 1 Axes>"
      ]
     },
     "metadata": {},
     "output_type": "display_data"
    },
    {
     "data": {
      "image/png": "[encoded data removed]",
      "text/plain": [
       "<Figure size 640x480 with 1 Axes>"
      ]
     },
     "metadata": {},
     "output_type": "display_data"
    }
   ],
   "source": [
    "env = GridWorld()\n",
    "agent = McAgent()\n",
    "\n",
    "episodes = 10000\n",
    "for episode in range(episodes):\n",
    "    state = env.reset()\n",
    "    agent.reset()\n",
    "\n",
    "    while True:\n",
    "        action = agent.get_action(state)\n",
    "        next_state, reward, done = env.step(action)\n",
    "\n",
    "        agent.add(state, action, reward)\n",
    "        if done:\n",
    "            agent.update()\n",
    "            break\n",
    "        state = next_state\n",
    "\n",
    "env.render_q(agent.Q)"
   ]
  },
  {
   "cell_type": "markdown",
   "id": "fe38d856",
   "metadata": {},
   "source": [
    "# 异策略型与重要性采样\n",
    "基于从其他地方获得的经验改进自己的策略叫做异策略型 off-policy , 基于自己的经验改进自己的策略叫做同策略型 on-policy\n",
    "## 重要性采样 importance sampling\n",
    "利用从其他概率分布中采样的数据来计算某个概率分布的期望值"
   ]
  },
  {
   "cell_type": "code",
   "execution_count": 34,
   "id": "6e8f7a7c",
   "metadata": {
    "ExecuteTime": {
     "end_time": "2025-05-19T09:42:39.918001Z",
     "start_time": "2025-05-19T09:42:39.898098Z"
    }
   },
   "outputs": [
    {
     "name": "stdout",
     "output_type": "stream",
     "text": [
      "E_pi[x] 2.7\n",
      "MC:2.62(var:0.52)\n"
     ]
    }
   ],
   "source": [
    "import numpy as np\n",
    "x = np.array([1, 2, 3])\n",
    "pi = np.array([0.1, 0.1, 0.8])\n",
    "# 期望值\n",
    "e = np.sum(x*pi)\n",
    "print(\"E_pi[x]\", e)\n",
    "# 蒙特卡洛\n",
    "n = 100\n",
    "samples = []\n",
    "for _ in range(n):\n",
    "    s = np.random.choice(x, p=pi)\n",
    "    samples.append(s)\n",
    "\n",
    "\n",
    "mean = np.mean(samples)\n",
    "var = np.var(samples)\n",
    "print('MC:{:.2f}(var:{:.2f})'.format(mean, var))"
   ]
  },
  {
   "cell_type": "code",
   "execution_count": 37,
   "id": "7c479a90",
   "metadata": {
    "ExecuteTime": {
     "end_time": "2025-05-19T09:45:24.259869Z",
     "start_time": "2025-05-19T09:45:24.243430Z"
    }
   },
   "outputs": [
    {
     "name": "stdout",
     "output_type": "stream",
     "text": [
      "2.4660000000000006 9.620244\n"
     ]
    }
   ],
   "source": [
    "b = np.array([1/3, 1/3, 1/3])\n",
    "n = 100\n",
    "samples = []\n",
    "\n",
    "for _ in range(n):\n",
    "    idx = np.arange(len(b))\n",
    "    i = np.random.choice(idx, p=b)\n",
    "    s = x[i]\n",
    "    rho = pi[i]/b[i]\n",
    "    samples.append(rho*s)\n",
    "\n",
    "mean = np.mean(samples)\n",
    "var = np.var(samples)\n",
    "print(mean, var)"
   ]
  },
  {
   "cell_type": "code",
   "execution_count": null,
   "id": "db5fc423",
   "metadata": {},
   "outputs": [],
   "source": []
  }
 ],
 "metadata": {
  "hide_input": false,
  "kernelspec": {
   "display_name": "Python 3 (ipykernel)",
   "language": "python",
   "name": "python3"
  },
  "language_info": {
   "codemirror_mode": {
    "name": "ipython",
    "version": 3
   },
   "file_extension": ".py",
   "mimetype": "text/x-python",
   "name": "python",
   "nbconvert_exporter": "python",
   "pygments_lexer": "ipython3",
   "version": "3.11.8"
  },
  "toc": {
   "base_numbering": 1,
   "nav_menu": {},
   "number_sections": true,
   "sideBar": true,
   "skip_h1_title": false,
   "title_cell": "Table of Contents",
   "title_sidebar": "Contents",
   "toc_cell": false,
   "toc_position": {},
   "toc_section_display": true,
   "toc_window_display": false
  },
  "varInspector": {
   "cols": {
    "lenName": 16,
    "lenType": 16,
    "lenVar": 40
   },
   "kernels_config": {
    "python": {
     "delete_cmd_postfix": "",
     "delete_cmd_prefix": "del ",
     "library": "var_list.py",
     "varRefreshCmd": "print(var_dic_list())"
    },
    "r": {
     "delete_cmd_postfix": ") ",
     "delete_cmd_prefix": "rm(",
     "library": "var_list.r",
     "varRefreshCmd": "cat(var_dic_list()) "
    }
   },
   "types_to_exclude": [
    "module",
    "function",
    "builtin_function_or_method",
    "instance",
    "_Feature"
   ],
   "window_display": false
  }
 },
 "nbformat": 4,
 "nbformat_minor": 5
}
