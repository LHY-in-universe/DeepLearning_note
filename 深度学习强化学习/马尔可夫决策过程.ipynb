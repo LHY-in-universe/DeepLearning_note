{
 "cells": [
  {
   "cell_type": "markdown",
   "id": "3f0541a5",
   "metadata": {},
   "source": [
    "MDP Markov Decision Process 马尔可夫决策过程, 情况随智能代理的行动而变化\n",
    "## 确定性\n",
    "若下一个状态$s'$由当前状态 s 与行动 a 唯一确定,$s'=f(s,a)$,则称为状态迁移函数 state transition function\n",
    "## 随机性\n",
    "若智能代理目前处于状态 s 并执行了行动 a, 则迁移到下一个状态s'的概率为 $p(s'|s,a)$\n",
    "\n",
    "当智能代理处在状态s, 执行行动a, 下一个状态是s', 得到的奖励是奖励函数 reward function $r(s,a,s') $\n",
    "\n",
    "MDP问题可分为回合制任务与连续性任务\n",
    "\n",
    "## 收益 return \n",
    "$G_t=R_t+\\gamma R_{t+1}+\\gamma^2R_{t+2}+\\cdots$\n",
    "$\\gamma 被称为折现率 discount rate$ 为了防止连续性任务收益无穷大引入\n",
    "\n",
    "收益的期望值 $\\nu_\\pi(s)=\\mathbb{E}[G_t\\mid S_t=s,\\pi]$ 状态价值函数 state-value function\n",
    "\n",
    "\n",
    "在MDP中, 至少存在一个最优策略, 是确定性策略, 每个状态的行动是唯一确定的\n",
    "    最优策略的状态价值函数叫做最优状态价值函数 optimal state-value function, 使用$\\nu_*$ 表示"
   ]
  },
  {
   "cell_type": "code",
   "execution_count": null,
   "id": "fb90f522",
   "metadata": {},
   "outputs": [],
   "source": []
  }
 ],
 "metadata": {
  "hide_input": false,
  "kernelspec": {
   "display_name": "Python 3 (ipykernel)",
   "language": "python",
   "name": "python3"
  },
  "language_info": {
   "codemirror_mode": {
    "name": "ipython",
    "version": 3
   },
   "file_extension": ".py",
   "mimetype": "text/x-python",
   "name": "python",
   "nbconvert_exporter": "python",
   "pygments_lexer": "ipython3",
   "version": "3.11.8"
  },
  "toc": {
   "base_numbering": 1,
   "nav_menu": {},
   "number_sections": true,
   "sideBar": true,
   "skip_h1_title": false,
   "title_cell": "Table of Contents",
   "title_sidebar": "Contents",
   "toc_cell": false,
   "toc_position": {},
   "toc_section_display": true,
   "toc_window_display": false
  },
  "varInspector": {
   "cols": {
    "lenName": 16,
    "lenType": 16,
    "lenVar": 40
   },
   "kernels_config": {
    "python": {
     "delete_cmd_postfix": "",
     "delete_cmd_prefix": "del ",
     "library": "var_list.py",
     "varRefreshCmd": "print(var_dic_list())"
    },
    "r": {
     "delete_cmd_postfix": ") ",
     "delete_cmd_prefix": "rm(",
     "library": "var_list.r",
     "varRefreshCmd": "cat(var_dic_list()) "
    }
   },
   "types_to_exclude": [
    "module",
    "function",
    "builtin_function_or_method",
    "instance",
    "_Feature"
   ],
   "window_display": false
  }
 },
 "nbformat": 4,
 "nbformat_minor": 5
}
