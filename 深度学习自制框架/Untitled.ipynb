{
 "cells": [
  {
   "cell_type": "code",
   "execution_count": null,
   "id": "c2a22936-f6e2-4bdf-9879-7b1cfef4aa06",
   "metadata": {},
   "outputs": [],
   "source": []
  }
 ],
 "metadata": {
  "kernelspec": {
   "display_name": "",
   "name": ""
  },
  "language_info": {
   "name": ""
  }
 },
 "nbformat": 4,
 "nbformat_minor": 5
}
